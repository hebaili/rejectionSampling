import numpy as np

# Generate random points with mean [1,1] and covariance matrix [[4,-1],[-1,4]]
# plot the points
a=np.random.uniform(low=-2,high=4,size=(10000,2))
figure(figsize=(9,9))
plot(a[:,0],a[:,1],'.')


# Perform rejection sampling to the randomly sampled points
from scipy.stats import multivariate_normal
M = 20
subset = []
for i in range(0, 10000):
    u = numpy.random.uniform(low=0,high=1)
    if (u<= multivariate_normal.pdf([a[i,0],a[i,1]], mean=[1,1], cov=[[4,-1],[-1,4]])):
        subset.append([a[i,0],a[i,1]])
